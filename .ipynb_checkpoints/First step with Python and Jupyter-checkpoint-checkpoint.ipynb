{
 "cells": [
  {
   "cell_type": "markdown",
   "id": "d26a1aeb",
   "metadata": {},
   "source": [
    "# First Steps with Python and Jupyter \n",
    "\n",
    "![](https://i.imgur.com/gvSnw4A.png)\n"
   ]
  },
  {
   "cell_type": "markdown",
   "id": "74cc1ff0",
   "metadata": {},
   "source": [
    "This tutorial covers the following topics:\n",
    "\n",
    "* Performing arithmetic operations using Python\n",
    "* Solving multi-step problems using variables\n",
    "* Evaluating conditions using Python\n",
    "* Combining conditions with logical operators\n",
    "* Adding text styles using Markdown"
   ]
  },
  {
   "cell_type": "markdown",
   "id": "8d4fe07e",
   "metadata": {},
   "source": [
    "### Performing arithmetic operations using Python"
   ]
  },
  {
   "cell_type": "code",
   "execution_count": null,
   "id": "b9c31235",
   "metadata": {
    "scrolled": true
   },
   "outputs": [],
   "source": [
    "# Addition\n",
    "12.7 + 3 + 9"
   ]
  },
  {
   "cell_type": "code",
   "execution_count": null,
   "id": "68527895",
   "metadata": {
    "scrolled": true
   },
   "outputs": [],
   "source": [
    "# Subtraction\n",
    "27 - 15"
   ]
  },
  {
   "cell_type": "code",
   "execution_count": null,
   "id": "4035d9c6",
   "metadata": {
    "scrolled": true
   },
   "outputs": [],
   "source": [
    "# Multiplication\n",
    "8.989*-9"
   ]
  },
  {
   "cell_type": "code",
   "execution_count": null,
   "id": "4bac2f0a",
   "metadata": {
    "scrolled": true
   },
   "outputs": [],
   "source": [
    "#Division\n",
    "6/2"
   ]
  },
  {
   "cell_type": "code",
   "execution_count": null,
   "id": "e8d5f9c9",
   "metadata": {
    "scrolled": true
   },
   "outputs": [],
   "source": [
    "# To get quotient alsone\n",
    "9//2"
   ]
  },
  {
   "cell_type": "code",
   "execution_count": null,
   "id": "f9daa100",
   "metadata": {
    "scrolled": true
   },
   "outputs": [],
   "source": [
    "# Exponential power operator\n",
    "5**4"
   ]
  },
  {
   "cell_type": "code",
   "execution_count": null,
   "id": "e41cde7c",
   "metadata": {
    "scrolled": true
   },
   "outputs": [],
   "source": [
    "# Remainder\n",
    "5%8"
   ]
  },
  {
   "cell_type": "code",
   "execution_count": null,
   "id": "a68bceb1",
   "metadata": {},
   "outputs": [],
   "source": [
    "((2 + 5) * (17 - 3)) / (4 ** 3)"
   ]
  },
  {
   "cell_type": "markdown",
   "id": "62df7c00",
   "metadata": {},
   "source": [
    "Python supports the following arithmetic operators:\n",
    "\n",
    "| Operator   | Purpose           | Example     | Result    |\n",
    "|------------|-------------------|-------------|-----------|\n",
    "| `+`        | Addition          | `2 + 3`     | `5`       |\n",
    "| `-`        | Subtraction       | `3 - 2`     | `1`       |\n",
    "| `*`        | Multiplication    | `8 * 12`    | `96`      |\n",
    "| `/`        | Division          | `100 / 7`   | `14.28..` |\n",
    "| `//`       | Floor Division    | `100 // 7`  | `14`      |    \n",
    "| `%`        | Modulus/Remainder | `100 % 7`   | `2`       |\n",
    "| `**`       | Exponent          | `5 ** 3`    | `125`     |\n",
    "\n",
    "\n",
    "Try solving some simple problems from this page:\n",
    "https://www.math-only-math.com/worksheet-on-word-problems-on-four-operations.html . \n",
    "\n",
    "You can use the empty cells below and add more cells if required."
   ]
  },
  {
   "cell_type": "markdown",
   "id": "100246b1",
   "metadata": {},
   "source": [
    "<body>Arithmetic operators in programming languages follow the rules of precedence, which determine the order in which operations are performed in an expression. The following is the typical order of precedence for arithmetic operators, from highest to lowest:<body>\n",
    "\n",
    "1. Parentheses: Operations inside parentheses are evaluated first. You can also use nested parentheses to further control the order of evaluation.\n",
    "\n",
    "2. Exponentiation: Operators like ^ or **, if supported, perform exponentiation.\n",
    "\n",
    "3. Multiplication, Division, and Remainder: Multiplication *, division /, and remainder % operations are evaluated next. They have the same precedence level and are evaluated left to right.\n",
    "\n",
    "4. Addition and Subtraction: Addition + and subtraction - operations are evaluated last. Like multiplication and division, they have the same precedence level and are evaluated left to right."
   ]
  },
  {
   "cell_type": "markdown",
   "id": "0eea9484",
   "metadata": {},
   "source": [
    "<b>Variables<b>: While working with a programming language such as Python, information is stored in variables. You can think of variables as containers for storing data. The data stored within a variable is called its value."
   ]
  },
  {
   "cell_type": "markdown",
   "id": "293ce676",
   "metadata": {},
   "source": [
    "<p style=\"color: rgb(255, 0, 0);\"> 1. The population of a town is 198568. Out of them 45312 are men and 35678 are women. Find the number of children in the town.</p>"
   ]
  },
  {
   "cell_type": "code",
   "execution_count": 1,
   "id": "2368f2ac",
   "metadata": {},
   "outputs": [],
   "source": [
    "population = 198568\n",
    "men = 45312\n",
    "women = 35678"
   ]
  },
  {
   "cell_type": "code",
   "execution_count": 12,
   "id": "d4207bbf",
   "metadata": {},
   "outputs": [
    {
     "name": "stdout",
     "output_type": "stream",
     "text": [
      "The number of children in the town = 117578\n"
     ]
    }
   ],
   "source": [
    "children = population-men - women\n",
    "print('The number of children in the town =',children)"
   ]
  },
  {
   "cell_type": "markdown",
   "id": "e105dd27",
   "metadata": {},
   "source": [
    "<p style=\"color: rgb(255, 0, 0);\">2. Maria bought 96 toys priced equally for 12960. The amount of 1015 is still left with her. Find the cost of each toy and the amount she had.</p>"
   ]
  },
  {
   "cell_type": "code",
   "execution_count": 20,
   "id": "2544d54e",
   "metadata": {},
   "outputs": [],
   "source": [
    "total_toys = 96\n",
    "price_of_96_toys = 12960\n",
    "the_amount_left =1015"
   ]
  },
  {
   "cell_type": "code",
   "execution_count": 21,
   "id": "90a4abb9",
   "metadata": {},
   "outputs": [
    {
     "name": "stdout",
     "output_type": "stream",
     "text": [
      "The cost of each toy =$ 135.0\n"
     ]
    }
   ],
   "source": [
    "price_of_each_toy = price_of_96_toys/total_toys\n",
    "print('The cost of each toy =$',price_of_each_toy)"
   ]
  },
  {
   "cell_type": "code",
   "execution_count": 22,
   "id": "52eba873",
   "metadata": {},
   "outputs": [
    {
     "name": "stdout",
     "output_type": "stream",
     "text": [
      "The amount she had =$ 13975\n"
     ]
    }
   ],
   "source": [
    "amount_she_had = price_96_toys+the_amount_left\n",
    "print('The amount she had =$',amount_she_had)"
   ]
  },
  {
   "cell_type": "markdown",
   "id": "bb05c460",
   "metadata": {},
   "source": [
    "<p style=\"color: rgb(255, 0, 0);\">3. A factory produces 24532 bulbs in a month. What is its annual production? </p> "
   ]
  },
  {
   "cell_type": "code",
   "execution_count": 26,
   "id": "c14cfb3a",
   "metadata": {},
   "outputs": [
    {
     "name": "stdout",
     "output_type": "stream",
     "text": [
      "Annual production of bulbs =  294384\n"
     ]
    }
   ],
   "source": [
    "total_bulbs_produced_per_month = 24532\n",
    "total_months_per_year = 12\n",
    "annual_production = total_bulbs_produced_per_month*total_months_per_year\n",
    "print('Annual production of bulbs = ',annual_production)"
   ]
  },
  {
   "cell_type": "markdown",
   "id": "86263fcc",
   "metadata": {},
   "source": [
    "<p style=\"color: rgb(255, 0, 0);\">4. 1575 students of a school want to go Agra by bus. If one bus can carry 75 students, how many buses are required to carry all the students?</p>"
   ]
  },
  {
   "cell_type": "code",
   "execution_count": 27,
   "id": "cb972e15",
   "metadata": {},
   "outputs": [
    {
     "name": "stdout",
     "output_type": "stream",
     "text": [
      "Total number of buses required to carry all the students =  21.0\n"
     ]
    }
   ],
   "source": [
    "total_students_want_to_go_Agra = 1575\n",
    "students_carried_per_bus = 75\n",
    "total_buses_required = 1575/75\n",
    "print('Total number of buses required to carry all the students = ', total_buses_required)"
   ]
  },
  {
   "cell_type": "markdown",
   "id": "c854cbbc",
   "metadata": {},
   "source": [
    "<p style=\"color: rgb(255, 0, 0);\">5. A grocery store sells a bag of ice for $1.25 and makes a 20% profit. If it sells 500 bags of ice, how much total profit does it make?</p>"
   ]
  },
  {
   "cell_type": "code",
   "execution_count": 29,
   "id": "df094559",
   "metadata": {},
   "outputs": [
    {
     "name": "stdout",
     "output_type": "stream",
     "text": [
      "Total profit =$ 125.0\n"
     ]
    }
   ],
   "source": [
    "price_of_a_ice_bag = 1.25\n",
    "profit_per_ice_bag = price_of_a_ice_bag*0.2\n",
    "total_icebags = 500\n",
    "total_profit = profit_per_ice_bag * 500\n",
    "print('Total profit =$',total_profit)"
   ]
  },
  {
   "cell_type": "markdown",
   "id": "ce5ce45f",
   "metadata": {},
   "source": [
    "<b>Functions: A function is a reusable set of instructions. It takes one or more inputs, performs certain operations, and often returns an output. Python provides many in-built functions like print and also allows us to define our own functions.</b>\n",
    "<br><b>print</b>: The print function is used to display information. It takes one or more inputs, which can be text (within quotes, e.g., \"this is some text\"), numbers, variables, mathematical expressions, etc. We'll learn more about variables & functions in the next tutorial."
   ]
  },
  {
   "cell_type": "markdown",
   "id": "f574981a",
   "metadata": {},
   "source": [
    "#Store input data in variables\n",
    "<br>cost_of_ice_bag = 1.25\n",
    "<br>profit_margin = .2\n",
    "<br>number_of_bags = 500\n",
    "\n",
    "#Perform the required calculations\n",
    "<br>profit_per_bag = cost_of_ice_bag * profit_margin\n",
    "<br>total_profit = number_of_bags * profit_per_bag\n",
    "\n",
    "#Display the result\n",
    "<br>print(\"The grocery store makes a total profit of $\", total_profit)"
   ]
  },
  {
   "cell_type": "markdown",
   "id": "977e469a",
   "metadata": {},
   "source": [
    "Note that we're using the `#` character to add *comments* within our code. \n",
    "\n",
    "> **Comments**: Comments and blank lines are ignored during execution, but they are useful for providing information to humans (including yourself) about what the code does. Comments can be inline (at the end of some code), on a separate line, or even span multiple lines. \n",
    "\n",
    "Inline and single-line comments start with `#`, whereas multi-line comments begin and end with three quotes, i.e. `\"\"\"`. Here are some examples of code comments:"
   ]
  },
  {
   "cell_type": "markdown",
   "id": "d1641466",
   "metadata": {},
   "source": [
    "<p style=\"color: rgb(255, 0, 0);\"> EXERCISE</p> A travel company wants to fly a plane to the Bahamas. Flying the plane costs 5000 dollars. So far, 29 people have signed up for the trip. If the company charges 200 dollars per ticket, what is the profit made by the company? Create variables for each numeric quantity and use appropriate arithmetic operations."
   ]
  },
  {
   "cell_type": "code",
   "execution_count": 31,
   "id": "5be4ada0",
   "metadata": {},
   "outputs": [
    {
     "name": "stdout",
     "output_type": "stream",
     "text": [
      "Total_costs = 5800\n"
     ]
    }
   ],
   "source": [
    "total_people = 29\n",
    "cost_per_ticket = 200\n",
    "actual_totl_costs = 5000\n",
    "total_costs = total_people*cost_per_ticket\n",
    "print('Total_costs =',total_costs)"
   ]
  },
  {
   "cell_type": "code",
   "execution_count": 38,
   "id": "a3fe08b2",
   "metadata": {},
   "outputs": [
    {
     "name": "stdout",
     "output_type": "stream",
     "text": [
      "The profit made by the company is 800 dollars\n"
     ]
    }
   ],
   "source": [
    "profit = total_costs - actual_totl_costs\n",
    "print(f'The profit made by the company is {profit} dollars')"
   ]
  },
  {
   "cell_type": "markdown",
   "id": "6d3a5be0",
   "metadata": {},
   "source": [
    "## Evaluating conditions using Python\n",
    "\n",
    "Apart from arithmetic operations, Python also provides several operations for comparing numbers & variables.\n",
    "\n",
    "| Operator    | Description                                                     |\n",
    "|-------------|-----------------------------------------------------------------|\n",
    "| `==`        | Check if operands are equal                                     |\n",
    "| `!=`        | Check if operands are not equal                                 |\n",
    "| `>`         | Check if left operand is greater than right operand             |\n",
    "| `<`         | Check if left operand is less than right operand                |\n",
    "| `>=`        | Check if left operand is greater than or equal to right operand |\n",
    "| `<=`        | Check if left operand is less than or equal to right operand    |\n",
    "\n",
    "The result of a comparison operation is either `True` or `False` (note the uppercase `T` and `F`). These are special keywords in Python. Let's try out some experiments with comparison operators."
   ]
  },
  {
   "cell_type": "code",
   "execution_count": null,
   "id": "cb4d2856",
   "metadata": {},
   "outputs": [],
   "source": []
  }
 ],
 "metadata": {
  "kernelspec": {
   "display_name": "Python 3 (ipykernel)",
   "language": "python",
   "name": "python3"
  },
  "language_info": {
   "codemirror_mode": {
    "name": "ipython",
    "version": 3
   },
   "file_extension": ".py",
   "mimetype": "text/x-python",
   "name": "python",
   "nbconvert_exporter": "python",
   "pygments_lexer": "ipython3",
   "version": "3.10.9"
  },
  "widgets": {
   "application/vnd.jupyter.widget-state+json": {
    "state": {},
    "version_major": 2,
    "version_minor": 0
   }
  }
 },
 "nbformat": 4,
 "nbformat_minor": 5
}
